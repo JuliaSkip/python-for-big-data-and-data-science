{
  "nbformat": 4,
  "nbformat_minor": 0,
  "metadata": {
    "colab": {
      "provenance": []
    },
    "kernelspec": {
      "name": "python3",
      "display_name": "Python 3"
    },
    "language_info": {
      "name": "python"
    }
  },
  "cells": [
    {
      "cell_type": "markdown",
      "source": [
        "# I. Змінні та памʼять."
      ],
      "metadata": {
        "id": "p9wwt0LZzNvn"
      }
    },
    {
      "cell_type": "markdown",
      "source": [
        "1. Створити змінні, що посилаються на два цілих числа, що однакові за значенням, де значення належить проміжку від -5 до 256. Перевірте, чи будуть ці змінні рівні тільки за значенням або ж ще будуть посилатися на один і той самий обʼєкт в памʼяті? Наведіть код та дайте текстову відповідь нижче."
      ],
      "metadata": {
        "id": "HTJrrm95xSV9"
      }
    },
    {
      "cell_type": "code",
      "execution_count": 1,
      "metadata": {
        "id": "TATni2vzayjG",
        "colab": {
          "base_uri": "https://localhost:8080/"
        },
        "outputId": "a29bb13e-141a-48ae-972b-189451db534b"
      },
      "outputs": [
        {
          "output_type": "stream",
          "name": "stdout",
          "text": [
            "Рівні за значенням: True\n",
            "Рівні за ідентичністю (вказують на один об'єкт в пам'яті): True\n"
          ]
        }
      ],
      "source": [
        "a = 100\n",
        "b = 100\n",
        "\n",
        "values_equal = a == b\n",
        "\n",
        "identity_equal = a is b\n",
        "\n",
        "print(\"Рівні за значенням:\", values_equal)\n",
        "print(\"Рівні за ідентичністю (вказують на один об'єкт в пам'яті):\", identity_equal)\n"
      ]
    },
    {
      "cell_type": "markdown",
      "source": [
        "\n",
        "Результат пов'язаний з кешуванням об'єктів для певного діапазону чисел в пайтоні. Це називається \"integer caching\". Для цілих чисел від -5 до 256 Python кешує ці об'єкти, тобто використовує один і той самий об'єкт в пам'яті для кожного числа в цьому діапазоні. Це робиться для оптимізації роботи з часто використовуваними числами."
      ],
      "metadata": {
        "id": "zfRG_o3WbRdg"
      }
    },
    {
      "cell_type": "markdown",
      "source": [
        "2. За допомогою якої функції можна перевірити належність змінної до вказаного типу даних (напр. чи змінна True посилається на значення булевого та цілочисленого типу)?"
      ],
      "metadata": {
        "id": "ISORzt6M3vAt"
      }
    },
    {
      "cell_type": "code",
      "source": [
        "var = True\n",
        "\n",
        "if isinstance(var, (bool, int)):\n",
        "    print(\"Змінна належить до типу bool або int\")\n",
        "else:\n",
        "    print(\"Змінна не належить до типу bool або int\")\n"
      ],
      "metadata": {
        "id": "9vL9CFaMbfyo",
        "colab": {
          "base_uri": "https://localhost:8080/"
        },
        "outputId": "dc9237ed-c104-44b3-876c-3545d7e1696d"
      },
      "execution_count": 4,
      "outputs": [
        {
          "output_type": "stream",
          "name": "stdout",
          "text": [
            "Змінна належить до типу bool або int.\n"
          ]
        }
      ]
    },
    {
      "cell_type": "markdown",
      "source": [
        "# II. Цілі числа та числа з рухомою комою"
      ],
      "metadata": {
        "id": "tRxugKAxwYLw"
      }
    },
    {
      "cell_type": "markdown",
      "source": [
        "3. Створити дві змінні, що посилаються на будь-які ціле число та число з рухомою комою та продемонструвати такі арифметичні операції: додавання, віднімання, ділення, множення, ділення без залишку, ділення по модулю, приведення до ступеню. Всі результати операцій вивести на екран."
      ],
      "metadata": {
        "id": "NLHkgd5Gybc8"
      }
    },
    {
      "cell_type": "code",
      "source": [
        "i = 10\n",
        "f = 5.25\n",
        "print(\"i =\", i, \" f =\", f)\n",
        "\n",
        "add = i + f\n",
        "print(\"Додавання: \", add)\n",
        "\n",
        "subtract = i - f\n",
        "print(\"Віднімання: \", subtract)\n",
        "\n",
        "divide = i / f\n",
        "print(\"Ділення: \", divide)\n",
        "\n",
        "multiply = i * f\n",
        "print(\"Множення: \", multiply)\n",
        "\n",
        "floor_division = i // f\n",
        "print(\"Ділення без залишку: \", floor_division)\n",
        "\n",
        "modulo = i % f\n",
        "print(\"Ділення по модулю: \", modulo)\n",
        "\n",
        "exponential = i ** f\n",
        "print(\"Приведення до ступеню: \", exponential)\n"
      ],
      "metadata": {
        "id": "nb8u_3pjb2cA",
        "colab": {
          "base_uri": "https://localhost:8080/"
        },
        "outputId": "1771d161-ba85-40d5-cf13-76112a045b0a"
      },
      "execution_count": 13,
      "outputs": [
        {
          "output_type": "stream",
          "name": "stdout",
          "text": [
            "i = 10  f = 5.25\n",
            "Додавання:  15.25\n",
            "Віднімання:  4.75\n",
            "Ділення:  1.9047619047619047\n",
            "Множення:  52.5\n",
            "Ділення без залишку:  1.0\n",
            "Ділення по модулю:  4.75\n",
            "Приведення до ступеню:  177827.94100389228\n"
          ]
        }
      ]
    },
    {
      "cell_type": "markdown",
      "source": [
        "4. Використовуючи змінні з вправи 3, продемонструйте механізм явного перетворення типів, де числа з рухомою комою перетворюються на цілі числа. Також визначте змінну, що посилається на значення булевого типу і спробуйте явно привести її до цілого числа."
      ],
      "metadata": {
        "id": "1kBClKgPzZnC"
      }
    },
    {
      "cell_type": "code",
      "source": [
        "boolean_value = True\n",
        "\n",
        "converted_number= int(f)\n",
        "print(\"Ціле число з рухомою комою, перетворене на ціле число:\", converted_number)\n",
        "\n",
        "converted_boolean = int(boolean_value)\n",
        "print(\"Булеве значення, перетворене на ціле число:\", converted_boolean)\n"
      ],
      "metadata": {
        "id": "TbqJbkeUcKsD",
        "colab": {
          "base_uri": "https://localhost:8080/"
        },
        "outputId": "d3d6810a-e71d-4bf1-9560-63b5a549c4ef"
      },
      "execution_count": 15,
      "outputs": [
        {
          "output_type": "stream",
          "name": "stdout",
          "text": [
            "Ціле число з рухомою комою, перетворене на ціле число: 5\n",
            "Булеве значення, перетворене на ціле число: 1\n"
          ]
        }
      ]
    },
    {
      "cell_type": "markdown",
      "source": [
        "# IІІ. Рядки (String)."
      ],
      "metadata": {
        "id": "EVJ7AflwxrZi"
      }
    },
    {
      "cell_type": "markdown",
      "source": [
        "5. Створити пустий рядок двома різними способами."
      ],
      "metadata": {
        "id": "_s5ECzz9zE61"
      }
    },
    {
      "cell_type": "code",
      "source": [
        "str1 = \"\"\n",
        "str2 = str()"
      ],
      "metadata": {
        "id": "fkZJHu9Scvc-"
      },
      "execution_count": 19,
      "outputs": []
    },
    {
      "cell_type": "markdown",
      "source": [
        "6. Створити рядок з апострофом. Зробити його сирим. Вивести обидва рядка на екран."
      ],
      "metadata": {
        "id": "4Bdn9J3MzLf_"
      }
    },
    {
      "cell_type": "code",
      "source": [
        "\n",
        "str_apostrophe = 'Це рядок з апострофом: \\'Hello\\''\n",
        "raw_str_apostrophe = r'Це \"сирий\" рядок з апострофом: \\'Hello\\''\n",
        "\n",
        "print(str_apostrophe)\n",
        "print(raw_str_apostrophe)"
      ],
      "metadata": {
        "id": "ivji_hsmc0GH",
        "colab": {
          "base_uri": "https://localhost:8080/"
        },
        "outputId": "cb96122d-a885-4a69-f727-af8d29cc7972"
      },
      "execution_count": 20,
      "outputs": [
        {
          "output_type": "stream",
          "name": "stdout",
          "text": [
            "Це рядок з апострофом: 'Hello'\n",
            "Це \"сирий\" рядок з апострофом: \\'Hello\\'\n"
          ]
        }
      ]
    },
    {
      "cell_type": "markdown",
      "source": [
        "7. Створити змінну, що буде посилатися на Ваше прізвище латинкою. Створити форматований рядок, який буде мати вигляд \"My surname is ______\", де на місці нижніх підкреслень буде Ваше прізвище зі змінної."
      ],
      "metadata": {
        "id": "bg_d8wM4z8dS"
      }
    },
    {
      "cell_type": "code",
      "source": [
        "my_surname = \"Skip\"\n",
        "\n",
        "formatted_string = \"My surname is {}\".format(my_surname)\n",
        "\n",
        "print(formatted_string)"
      ],
      "metadata": {
        "id": "kuxFgpWndACq",
        "colab": {
          "base_uri": "https://localhost:8080/"
        },
        "outputId": "dd4759e1-02be-48cc-8f9d-4672bc10563e"
      },
      "execution_count": 21,
      "outputs": [
        {
          "output_type": "stream",
          "name": "stdout",
          "text": [
            "My surname is Skip\n"
          ]
        }
      ]
    },
    {
      "cell_type": "markdown",
      "source": [
        "8. Маючи рядок \"My dog is crazy.\" перетворити його на список [\"my\", \"dog\", \"is\", \"crazy\"]"
      ],
      "metadata": {
        "id": "1Nc6RqvQ0hxU"
      }
    },
    {
      "cell_type": "code",
      "source": [
        "dog_string = \"My dog is crazy.\"\n",
        "\n",
        "res = dog_string.lower().split()\n",
        "\n",
        "print(res)"
      ],
      "metadata": {
        "id": "w1Ya4RqedUhw",
        "colab": {
          "base_uri": "https://localhost:8080/"
        },
        "outputId": "d9611cbc-bd66-437f-8de6-f8924235648b"
      },
      "execution_count": 24,
      "outputs": [
        {
          "output_type": "stream",
          "name": "stdout",
          "text": [
            "['my', 'dog', 'is', 'crazy.']\n"
          ]
        }
      ]
    },
    {
      "cell_type": "markdown",
      "source": [
        "# IV. Робота зі списками."
      ],
      "metadata": {
        "id": "GYVqN9uP1D4n"
      }
    },
    {
      "cell_type": "markdown",
      "source": [
        "9. Створити список двома різними за синтаксисом способами. За допомогою вбудованої функції обчисліть довжину одного з них."
      ],
      "metadata": {
        "id": "7-DeDunw2sO-"
      }
    },
    {
      "cell_type": "code",
      "source": [
        "list1 = [0, 1, 2, 3, 4]\n",
        "list2 = list(range(5))\n",
        "length1 = len(list1)\n",
        "\n",
        "print(\"Спосіб 1: \", list1)\n",
        "print(\"Спосіб 2: \", list2)\n",
        "print(\"Довжина списку 1:\", length1)"
      ],
      "metadata": {
        "id": "zxg06Uuxdyoh",
        "colab": {
          "base_uri": "https://localhost:8080/"
        },
        "outputId": "d55c530d-357a-42de-8233-65c9e54cbda4"
      },
      "execution_count": 26,
      "outputs": [
        {
          "output_type": "stream",
          "name": "stdout",
          "text": [
            "Спосіб 1:  [0, 1, 2, 3, 4]\n",
            "Спосіб 2:  [0, 1, 2, 3, 4]\n",
            "Довжина списку 1: 5\n"
          ]
        }
      ]
    },
    {
      "cell_type": "markdown",
      "source": [
        "10. Створіть два списка та за допомогою спеціального методу додайте другий з них в якості останнього елемента першого."
      ],
      "metadata": {
        "id": "8vmGUTjL22gI"
      }
    },
    {
      "cell_type": "code",
      "source": [
        "list1 = [1, 2, 3]\n",
        "list2 = [4, 5, 6]\n",
        "list1.append(list2)\n",
        "\n",
        "print(list1)"
      ],
      "metadata": {
        "id": "uHtjWYw7d7hm",
        "colab": {
          "base_uri": "https://localhost:8080/"
        },
        "outputId": "54ce4737-7a1d-40b3-823a-9dbbc77b67a9"
      },
      "execution_count": 28,
      "outputs": [
        {
          "output_type": "stream",
          "name": "stdout",
          "text": [
            "[1, 2, 3, [4, 5, 6]]\n"
          ]
        }
      ]
    },
    {
      "cell_type": "markdown",
      "source": [
        "11. Створіть список, де елементами цього списку також є списки. Отримай перший елемент з останнього рядка та виведи значення на екран."
      ],
      "metadata": {
        "id": "JC3BkD-67_--"
      }
    },
    {
      "cell_type": "code",
      "source": [
        "list_from_lists = [[1, 2, 3],[4, 5, 6],[7, 8, 9]]\n",
        "element = list_from_lists[-1][0]\n",
        "print(element)"
      ],
      "metadata": {
        "id": "Kz2jZHsGeLlz",
        "colab": {
          "base_uri": "https://localhost:8080/"
        },
        "outputId": "df6f8378-d681-4414-b21d-2ec1e0a7c2d2"
      },
      "execution_count": 31,
      "outputs": [
        {
          "output_type": "stream",
          "name": "stdout",
          "text": [
            "7\n"
          ]
        }
      ]
    },
    {
      "cell_type": "markdown",
      "source": [
        "12. Створіть список з десяти елементів різного типу. Отримайте всі елементи, окрім двох перших та двох останніх та збережіть їх в новій змінній."
      ],
      "metadata": {
        "id": "JA47PKTv8zFK"
      }
    },
    {
      "cell_type": "code",
      "source": [
        "diverse_list = [True, 1, 1.09, \"skip\", 'j', False, 5, 90, \"julia\", 98765]\n",
        "elements = diverse_list[2:-2]\n",
        "print(elements)"
      ],
      "metadata": {
        "id": "_rHdUR-ueP4-",
        "colab": {
          "base_uri": "https://localhost:8080/"
        },
        "outputId": "4b8cb273-a3f6-4b29-d55f-9697c8c0bf9e"
      },
      "execution_count": 33,
      "outputs": [
        {
          "output_type": "stream",
          "name": "stdout",
          "text": [
            "[1.09, 'skip', 'j', False, 5, 90]\n"
          ]
        }
      ]
    },
    {
      "cell_type": "markdown",
      "source": [
        "# V. Робота з кортежами."
      ],
      "metadata": {
        "id": "pCjR1dJb1Qbi"
      }
    },
    {
      "cell_type": "markdown",
      "source": [
        "14. Створити кортеж з один елементом."
      ],
      "metadata": {
        "id": "fAZCxAX06R_k"
      }
    },
    {
      "cell_type": "code",
      "source": [
        "single_tuple = (42, )\n",
        "\n",
        "print(single_tuple)"
      ],
      "metadata": {
        "id": "H7d82WkQev3e",
        "colab": {
          "base_uri": "https://localhost:8080/"
        },
        "outputId": "cd6e7a63-a4bf-4742-c8d9-505260c79e04"
      },
      "execution_count": 37,
      "outputs": [
        {
          "output_type": "stream",
          "name": "stdout",
          "text": [
            "(42,)\n"
          ]
        }
      ]
    },
    {
      "cell_type": "markdown",
      "source": [
        "15. Порівняйте список та кортеж. Назвіть схожості та відмінності, випадки використання."
      ],
      "metadata": {
        "id": "8LCtYcmI6w1M"
      }
    },
    {
      "cell_type": "markdown",
      "source": [
        "Схожості:\n",
        "  1. Обидва типи даних призначені для зберігання колекцій елементів.\n",
        "  2. І в списках, і в кортежах можна отримувати доступ до їхніх елементів за допомогою індексів.\n",
        "  3. Багато вбудованих функцій, таких як len(), sum(), min(), max() і т. д., можуть бути використані як для списків, так і для кортежів.\n",
        "\n",
        "Відмінності:\n",
        "  1. Cписки є змінними (mutable), тобто їх можна змінювати (додавати, видаляти чи змінювати елементи), а кортежі є незмінними (immutable), і їхній вміст не можна змінювати після створення.\n",
        "  2. Щоб створити список ми використовуємо  квадратні дужки [ ], а кортеж - круглі ( ).\n",
        "  3. Кортежі, як незмінні об'єкти, можуть бути більш ефективними щодо використання пам'яті порівняно зі списками.\n",
        "\n",
        "Випадки використання:\n",
        "\n",
        "  Списки використовуються, коли потрібна змінність даних, або існує  потреба в додаванні, видаленні чи зміні елементів під час виконання програми.\n",
        "\n",
        "  Кортежі використовуються, коли потрібно забезпечити незмінність даних, щоб уникнути непередбачуваних змін. Їх часто для представлення фіксованих наборів даних, які не повинні змінюватися."
      ],
      "metadata": {
        "id": "fUsN1Hnue0C6"
      }
    },
    {
      "cell_type": "markdown",
      "source": [
        "16. Створіть кортеж з 11ти елементів чисел з рухомою комою та отримайте кожен парний за індексом елемент в зворотньому порядку. Наприклад, маючи (1.2, 2.3, 3.3, 4.3, 5.3, 6.3, 7.3, 8.3, 9.3, 0.3), отримати (0.3, 8.3, 6.3, 4.3, 2.3). Результат збережіть в нову змінну та виведіть на екран."
      ],
      "metadata": {
        "id": "m0xrwFijAmDD"
      }
    },
    {
      "cell_type": "code",
      "source": [
        "float_tuple = (1.1, 2.2, 3.3, 4.4, 5.5, 6.6, 7.7, 8.8, 9.9, 10.1, 11.11)\n",
        "res = float_tuple[::-2]\n",
        "print(res)"
      ],
      "metadata": {
        "id": "p-5DAH6XfAGA",
        "colab": {
          "base_uri": "https://localhost:8080/"
        },
        "outputId": "8e43bd14-5b4c-4f98-98fa-cf6d7ebca277"
      },
      "execution_count": 40,
      "outputs": [
        {
          "output_type": "stream",
          "name": "stdout",
          "text": [
            "(11.11, 9.9, 7.7, 5.5, 3.3, 1.1)\n"
          ]
        }
      ]
    },
    {
      "cell_type": "markdown",
      "source": [
        "# VI. Множини (Set)."
      ],
      "metadata": {
        "id": "rW_I9dt3x6cW"
      }
    },
    {
      "cell_type": "markdown",
      "source": [
        "17. Створити множину без елементів. Після цого за допомогою методу додайте кілька різних елементів до множини. Чи множини є змінним типом даних?"
      ],
      "metadata": {
        "id": "zNjRLHLw1Bgg"
      }
    },
    {
      "cell_type": "code",
      "source": [
        "empty_set = set()\n",
        "\n",
        "empty_set.add(0)\n",
        "empty_set.add('skip')\n",
        "empty_set.add(True)\n",
        "\n",
        "print(empty_set)\n"
      ],
      "metadata": {
        "id": "KOv7zc2Kfo4N",
        "colab": {
          "base_uri": "https://localhost:8080/"
        },
        "outputId": "76de639b-8f22-45e1-822b-a5ef22b7ab94"
      },
      "execution_count": 42,
      "outputs": [
        {
          "output_type": "stream",
          "name": "stdout",
          "text": [
            "{0, 'skip', True}\n"
          ]
        }
      ]
    },
    {
      "cell_type": "markdown",
      "source": [
        "Так, множини є змінним типом даних. Їх можна змінювати, додаючи та видаляючи елементи після їх створення."
      ],
      "metadata": {
        "id": "vxS6dVYiftZQ"
      }
    },
    {
      "cell_type": "markdown",
      "source": [
        "18. Створити множину, маючи список my_list = [1, 1, 2, 67, 67, 8, 9]. Пояснити, чому \"зникли\" деякі елементи."
      ],
      "metadata": {
        "id": "gHpT0Zw_1HEF"
      }
    },
    {
      "cell_type": "code",
      "source": [
        "my_list = [1, 1, 2, 67, 67, 8, 9]\n",
        "my_set = set(my_list)\n",
        "\n",
        "print(\"my_list = \", my_list)\n",
        "print(\"my_set = \", my_set)\n"
      ],
      "metadata": {
        "id": "qCN4uvJ_fxmu",
        "colab": {
          "base_uri": "https://localhost:8080/"
        },
        "outputId": "fdc80750-654b-4573-f58f-a6fd95340414"
      },
      "execution_count": 43,
      "outputs": [
        {
          "output_type": "stream",
          "name": "stdout",
          "text": [
            "my_list =  [1, 1, 2, 67, 67, 8, 9]\n",
            "my_set =  {1, 2, 67, 8, 9}\n"
          ]
        }
      ]
    },
    {
      "cell_type": "markdown",
      "source": [
        "Деякі елементи \"зникли\", бо коли ми створюємо множину зі списку my_list, дубльовані значення відкидаються, залишаючи лише унікальні елементи в множині."
      ],
      "metadata": {
        "id": "tFNc1e20fyny"
      }
    },
    {
      "cell_type": "markdown",
      "source": [
        "19. Створіть дві множини. Продемонстуйте над ними операції: обʼєднання, різниці, пересічі та симетричної різниці. Використовуйте методи, що не змінюють множини, а створюють нові."
      ],
      "metadata": {
        "id": "SRMkGizS1UwY"
      }
    },
    {
      "cell_type": "code",
      "source": [
        "set1 = {1, 2, 3, 4, 5}\n",
        "set2 = {3, 4, 5, 6, 7}\n",
        "\n",
        "print(\"set1 = \", set1)\n",
        "print(\"set2 = \", set2)\n",
        "\n",
        "union_set = set1.union(set2)\n",
        "print(\"\\nОб'єднання множин:\", union_set)\n",
        "\n",
        "difference_set = set1.difference(set2)\n",
        "print(\"Різниця множин (set1 - set2):\", difference_set)\n",
        "\n",
        "intersection_set = set1.intersection(set2)\n",
        "print(\"Пересічення множин:\", intersection_set)\n",
        "\n",
        "symmetric_difference_set = set1.symmetric_difference(set2)\n",
        "print(\"Симетрична різниця множин:\", symmetric_difference_set)\n"
      ],
      "metadata": {
        "id": "h0T-VuDnf3Ri",
        "colab": {
          "base_uri": "https://localhost:8080/"
        },
        "outputId": "c88e7837-bdf9-4d09-d1d1-3a9416ff2185"
      },
      "execution_count": 44,
      "outputs": [
        {
          "output_type": "stream",
          "name": "stdout",
          "text": [
            "set1 =  {1, 2, 3, 4, 5}\n",
            "set2 =  {3, 4, 5, 6, 7}\n",
            "\n",
            "Об'єднання множин: {1, 2, 3, 4, 5, 6, 7}\n",
            "Різниця множин (set1 - set2): {1, 2}\n",
            "Пересічення множин: {3, 4, 5}\n",
            "Симетрична різниця множин: {1, 2, 6, 7}\n"
          ]
        }
      ]
    },
    {
      "cell_type": "markdown",
      "source": [
        "# VII. Словники (Dictionary)."
      ],
      "metadata": {
        "id": "kWc8gkzTx7Ea"
      }
    },
    {
      "cell_type": "markdown",
      "source": [
        "20. Створіть пустий словник. До нього додайте чотири пари елементів такі, щоб їхні ключі були різних типів. Чи може список бути ключем? Чому?"
      ],
      "metadata": {
        "id": "i5FLwj-B2ybQ"
      }
    },
    {
      "cell_type": "code",
      "source": [
        "dictionary = {}\n",
        "\n",
        "dictionary[1] = 'one'\n",
        "dictionary['skip'] = 'julia'\n",
        "dictionary[1.01] = 'float'\n",
        "dictionary[(0, 1)] = 'tuple'\n",
        "\n",
        "print(dictionary)\n"
      ],
      "metadata": {
        "id": "hxgv3BzrgLAV",
        "colab": {
          "base_uri": "https://localhost:8080/"
        },
        "outputId": "15f0cad7-1c01-4dcc-cb63-752a3287a3e2"
      },
      "execution_count": 47,
      "outputs": [
        {
          "output_type": "stream",
          "name": "stdout",
          "text": [
            "{1: 'one', 'skip': 'julia', 1.01: 'float', (0, 1): 'tuple'}\n"
          ]
        }
      ]
    },
    {
      "cell_type": "markdown",
      "source": [
        "Ні, список не може бути ключем в словнику, бо ключі словника повинні бути незмінними (immutable) типами даних, а список - змінний. Замість списків можна використовувати кортежі, оскільки вони є незмінними.\n",
        "\n",
        "\n",
        "\n",
        "\n",
        "\n"
      ],
      "metadata": {
        "id": "zwa7UVN-gR3m"
      }
    },
    {
      "cell_type": "markdown",
      "source": [
        "21. Створіть словник, де значенням в одній з пар теж буде словник, який теж має вкладений словник. Виведіть на екран значення, що міститься в словнику, що знаходиться на найнижчому рівні ієрархії вкладеності (найбільш внутрішній)."
      ],
      "metadata": {
        "id": "WM_pMlJsgoNf"
      }
    },
    {
      "cell_type": "code",
      "source": [
        "dictionary = {'1': '1','2': {'2.1': '2.1','2.2': {'2.3': '2.3'}},'3': '3'}\n",
        "res = dictionary['2']['2.2']['2.3']\n",
        "\n",
        "print(res)\n",
        "\n"
      ],
      "metadata": {
        "id": "60dlP7IHhAy4",
        "colab": {
          "base_uri": "https://localhost:8080/"
        },
        "outputId": "57883ac0-065c-4edd-8443-9712968d3eeb"
      },
      "execution_count": 51,
      "outputs": [
        {
          "output_type": "stream",
          "name": "stdout",
          "text": [
            "2.3\n"
          ]
        }
      ]
    },
    {
      "cell_type": "markdown",
      "source": [
        "# Вітаю! Ви велика(ий) молодець, що впоралась(вся). Похваліть себе та побалуйте чимось приємним. Я Вами пишаюся."
      ],
      "metadata": {
        "id": "xOZP0hkx6cCr"
      }
    }
  ]
}