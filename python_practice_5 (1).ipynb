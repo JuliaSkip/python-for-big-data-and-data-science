{
 "nbformat": 4,
 "nbformat_minor": 0,
 "metadata": {
  "colab": {
   "provenance": []
  },
  "kernelspec": {
   "name": "python3",
   "language": "python",
   "display_name": "Python 3 (ipykernel)"
  },
  "language_info": {
   "name": "python"
  }
 },
 "cells": [
  {
   "cell_type": "markdown",
   "source": [
    "# I. OOP"
   ],
   "metadata": {
    "id": "5qV_sehzFCTp"
   }
  },
  {
   "cell_type": "markdown",
   "source": [
    "1. (6б). Створіть клас Animal, додайте три атрибути, один з яких має значення за замовчуванням та два методи на свій розсуд."
   ],
   "metadata": {
    "id": "tx_U_hOALyfg"
   }
  },
  {
   "cell_type": "code",
   "source": [
    "class Animal:\n",
    "    def __init__(self, kind, age, is_endangered_species=False):\n",
    "        self.kind = kind\n",
    "        self.age = age\n",
    "        self.is_endangered_species = is_endangered_species\n",
    "\n",
    "    def set_endangered(self, is_endangered):\n",
    "        self.is_endangered_species = is_endangered\n",
    "        return None\n",
    "\n",
    "    def change_age(self, new_age):\n",
    "        self.age = new_age\n",
    "        return None\n"
   ],
   "metadata": {
    "id": "-Vf895KaL88N"
   },
   "execution_count": 1,
   "outputs": []
  },
  {
   "cell_type": "markdown",
   "source": [
    "2. (2б). Створіть два обʼєкти цього класу, де один з обʼєктів створюється із дефолтним значенням атрибуту. На одному обʼєкті отримайте значення його атрибуту, а на іншому викличте один з його методів."
   ],
   "metadata": {
    "id": "X_UlOMB0L93w"
   }
  },
  {
   "cell_type": "code",
   "source": [
    "cat = Animal(\"cat\", 5)\n",
    "panda = Animal(\"panda\", 3, True)\n",
    "\n",
    "print(cat.age)\n",
    "panda.set_endangered(False)\n",
    "print(panda.is_endangered_species)"
   ],
   "metadata": {
    "id": "7gBu0ESOMCpG",
    "colab": {
     "base_uri": "https://localhost:8080/"
    },
    "outputId": "92a2db71-6577-41c9-d89d-d71f28aa1072"
   },
   "execution_count": 4,
   "outputs": [
    {
     "output_type": "stream",
     "name": "stdout",
     "text": [
      "5\n",
      "False\n"
     ]
    }
   ]
  },
  {
   "cell_type": "markdown",
   "source": [
    "3. (5б). Створіть клас, де атрибути мають різні рівні доступу. Спробуйте отримати їхні значення та опишіть результати."
   ],
   "metadata": {
    "id": "HoqSCZt1MHn5"
   }
  },
  {
   "cell_type": "code",
   "source": [
    "class City:\n",
    "  def __init__(self, name, post_code, private_code):\n",
    "    self.name = name\n",
    "    self._post_code = post_code\n",
    "    self.__private_code = private_code\n",
    "\n",
    "\n",
    "city = City(\"Ternopil\", 46001, 123)\n",
    "print(city.name) # це в нас public атрибут і його можна отримати прямим доступом, тобто у нас виведеться його значення\n",
    "print(city._post_code) # це в нас protected атрибут, його можна отримати і нам виведеться значення, але за домовленістю він вважається приватним\n",
    "print(city.__private_code) # це private атрибут, його не можна отримати простим доступом, тому нам видасть помилку AttributeError\n",
    "# але щоб все-таки отримати значення, ми можемо доступитись до атрибуту таким способом: print(city._City__private_code)"
   ],
   "metadata": {
    "id": "r9b3vJxBMSPV",
    "colab": {
     "base_uri": "https://localhost:8080/",
     "height": 228
    },
    "outputId": "bfa4556a-9e34-4197-9d3c-8cf5603b1f20"
   },
   "execution_count": 10,
   "outputs": [
    {
     "output_type": "stream",
     "name": "stdout",
     "text": [
      "Ternopil\n",
      "46001\n"
     ]
    },
    {
     "output_type": "error",
     "ename": "AttributeError",
     "evalue": "'City' object has no attribute '__private_code'",
     "traceback": [
      "\u001B[0;31m---------------------------------------------------------------------------\u001B[0m",
      "\u001B[0;31mAttributeError\u001B[0m                            Traceback (most recent call last)",
      "\u001B[0;32m<ipython-input-10-a86e95d5e2d9>\u001B[0m in \u001B[0;36m<cell line: 11>\u001B[0;34m()\u001B[0m\n\u001B[1;32m      9\u001B[0m \u001B[0mprint\u001B[0m\u001B[0;34m(\u001B[0m\u001B[0mcity\u001B[0m\u001B[0;34m.\u001B[0m\u001B[0mname\u001B[0m\u001B[0;34m)\u001B[0m \u001B[0;31m# це в нас public attribute і його можна отримати прямим доступом, тобто у нас виведеться його значення\u001B[0m\u001B[0;34m\u001B[0m\u001B[0;34m\u001B[0m\u001B[0m\n\u001B[1;32m     10\u001B[0m \u001B[0mprint\u001B[0m\u001B[0;34m(\u001B[0m\u001B[0mcity\u001B[0m\u001B[0;34m.\u001B[0m\u001B[0m_post_code\u001B[0m\u001B[0;34m)\u001B[0m \u001B[0;31m# це в нас protected attribute, його можна отримати і нам виведеться значення, але за домовленістю він вважається приватним\u001B[0m\u001B[0;34m\u001B[0m\u001B[0;34m\u001B[0m\u001B[0m\n\u001B[0;32m---> 11\u001B[0;31m \u001B[0mprint\u001B[0m\u001B[0;34m(\u001B[0m\u001B[0mcity\u001B[0m\u001B[0;34m.\u001B[0m\u001B[0m__private_code\u001B[0m\u001B[0;34m)\u001B[0m \u001B[0;31m# це private attribute, його не можна отримати простим доступом, тому нам видасть помилку AttributeError\u001B[0m\u001B[0;34m\u001B[0m\u001B[0;34m\u001B[0m\u001B[0m\n\u001B[0m\u001B[1;32m     12\u001B[0m \u001B[0mprint\u001B[0m\u001B[0;34m(\u001B[0m\u001B[0mcity\u001B[0m\u001B[0;34m.\u001B[0m\u001B[0m_City__private_code\u001B[0m\u001B[0;34m)\u001B[0m \u001B[0;31m# але щоб все-таки отримати значення, ми можемо доступитись до атрибуту таким способом\u001B[0m\u001B[0;34m\u001B[0m\u001B[0;34m\u001B[0m\u001B[0m\n",
      "\u001B[0;31mAttributeError\u001B[0m: 'City' object has no attribute '__private_code'"
     ]
    }
   ]
  },
  {
   "cell_type": "markdown",
   "source": [
    "4. (7б). Як ви розумієте термін self? Для чого використовується метод __init __?"
   ],
   "metadata": {
    "id": "5op2m2vgMSkZ"
   }
  },
  {
   "cell_type": "markdown",
   "source": [
    "✨Термін self в Пайтоні вказує на екземпляр класу, для якого викликається метод. Загалом можна використовувати будь-яке ім'я, але за домовленістю програмісти використовують self, щоб код був зрозумілішим для інших. Коли ми викликаємо метод об'єкта, то екземпляр цього об'єкта передається в параметр self методу, щоб ми могли отримувати доступ до атрибутів та методів цього класу.\n",
    "\n",
    "✨Метод ____init ____ це спеціальний метод в класах Пайтона, який ми використовуємо для ініціалізації об'єкта класу. Він викликається автоматично при створенні нового екземпляра класу. У методі ____init ____ ми встановлюємо початкові значення атрибутів для об'єкта та загалом задаємо його почаковий стан."
   ],
   "metadata": {
    "id": "DyiPqNRvMasx"
   }
  },
  {
   "cell_type": "markdown",
   "source": [
    "5. (9б). Створіть клас Фігура без атрибутів, з методом get_area для отримання площі фігури, що повертає 0 та __add __, який приймає self та other в якості аргументів, а повертає суму площин фігур self та other."
   ],
   "metadata": {
    "id": "-6X8EGfjMd2y"
   }
  },
  {
   "cell_type": "code",
   "source": [
    "class Figure:\n",
    "  def get_area(self):\n",
    "    return 0\n",
    "\n",
    "  def __add__(self, other):\n",
    "    if isinstance(other, Figure):\n",
    "      return self.get_area() + other.get_area()\n",
    "    else:\n",
    "      raise ValueError(\"Unsupported type for addition\")\n"
   ],
   "metadata": {
    "id": "4rvO_wYUMaEr"
   },
   "execution_count": 12,
   "outputs": []
  },
  {
   "cell_type": "markdown",
   "source": [
    "6. (11б). Створіть 2 дочірніх класи від Фігури: Трикутник та Коло, які мають атрибути, необхідні для розрахунку площин. Визначте метод get_area в кожному з них так, щоби вони розраховували площу в залежності від формули для кожного типу фігури. Створіть обʼєкт класу Трикутник та обʼєкт класу Коло. Виконайте операцію суми за допомогою оператора + між ними."
   ],
   "metadata": {
    "id": "SFcKnnv5Mo_z"
   }
  },
  {
   "cell_type": "code",
   "source": [
    "import math\n",
    "\n",
    "class Triangle(Figure):\n",
    "  def __init__(self, side, height):\n",
    "      self.side = side\n",
    "      self.height = height\n",
    "\n",
    "  def get_area(self):\n",
    "      return (self.side * self.height) / 2\n",
    "\n",
    "class Circle(Figure):\n",
    "\n",
    "   def __init__(self, radius):\n",
    "       self.radius = radius\n",
    "\n",
    "   def get_area(self):\n",
    "       return (self.radius ** 2) * math.pi\n",
    "\n",
    "\n",
    "triangle  = Triangle(10, 2)\n",
    "circle = Circle(10)\n",
    "result = triangle + circle\n",
    "\n",
    "print(result)"
   ],
   "metadata": {
    "id": "H3GVNr69Muf3",
    "colab": {
     "base_uri": "https://localhost:8080/"
    },
    "outputId": "a5131db9-621e-41a5-cb4d-1216a9ab9c7a"
   },
   "execution_count": 19,
   "outputs": [
    {
     "output_type": "stream",
     "name": "stdout",
     "text": [
      "324.1592653589793\n"
     ]
    }
   ]
  },
  {
   "cell_type": "markdown",
   "source": [
    "7. (3б). Продемонструйте різницю між isinstance та issubclass."
   ],
   "metadata": {
    "id": "HCvR206YMvLK"
   }
  },
  {
   "cell_type": "code",
   "source": [
    "class Fruit:\n",
    "    pass\n",
    "\n",
    "class Apple(Fruit):\n",
    "    pass\n",
    "\n",
    "class Cucumber:\n",
    "    pass\n",
    "\n",
    "apple = Apple()\n",
    "\n",
    "# isinstance() ми використовуємо для перевірки того, чи є об'єкт екземпляром певного класу\n",
    "print(\"isinstance(apple, Apple) = \",isinstance(apple, Apple))\n",
    "print(\"isinstance(apple, Fruit) = \", isinstance(apple, Fruit))\n",
    "print(\"isinstance(apple, (Cucumber, int, str)) = \", isinstance(apple, (Cucumber, int, str)))\n",
    "\n",
    "print()\n",
    "\n",
    "# issubclass() ми використовуємо для перевірки того, чи є клас підкласом іншого класу\n",
    "print(\"issubclass(Apple, Fruit) = \", issubclass(Apple, Fruit))\n",
    "print(\"issubclass(Cucumber, Fruit) = \", issubclass(Cucumber, Fruit))\n",
    "print(\"issubclass(Fruit, Apple) = \", issubclass(Fruit, Apple))\n",
    "\n"
   ],
   "metadata": {
    "id": "L_V1bBvDM0GN",
    "colab": {
     "base_uri": "https://localhost:8080/"
    },
    "outputId": "a42d616b-0721-4904-8ee5-93b835d61622"
   },
   "execution_count": 26,
   "outputs": [
    {
     "output_type": "stream",
     "name": "stdout",
     "text": [
      "isinstance(apple, Apple) =  True\n",
      "isinstance(apple, Fruit) =  True\n",
      "isinstance(apple, (Cucumber, int, str)) =  False\n",
      "\n",
      "issubclass(Apple, Fruit) =  True\n",
      "issubclass(Cucumber, Fruit) =  False\n",
      "issubclass(Fruit, Apple) =  False\n"
     ]
    }
   ]
  },
  {
   "cell_type": "markdown",
   "source": [
    "8. (13б). Створіть клас BankAccount з приватними атрибутами balance та account_number. Реалізуйте методи поповнення та зняття коштів, забезпечивши належну інкапсуляцію. Підказка: використовуйте декоратори property та setter."
   ],
   "metadata": {
    "id": "jjsaBZ-iM0Qq"
   }
  },
  {
   "cell_type": "code",
   "source": [
    "class BankAccount:\n",
    "  def __init__(self, balance, account_number):\n",
    "    self.__balance = balance\n",
    "    self.__account_number = account_number\n",
    "\n",
    "  @property\n",
    "  def balance(self):\n",
    "      return self.__balance\n",
    "\n",
    "  @balance.setter\n",
    "  def balance(self, new_balance):\n",
    "      if new_balance >= 0:\n",
    "          self.__balance = new_balance\n",
    "      else:\n",
    "          print(\"Balance must be non-negative!\")\n",
    "\n",
    "  @property\n",
    "  def account_number(self):\n",
    "        return self.__account_number\n",
    "\n",
    "  def deposit(self, amount):\n",
    "      if amount > 0:\n",
    "          self.__balance += amount\n",
    "      else:\n",
    "          print(\"Invalid amount. Amount must be positive.\")\n",
    "\n",
    "  def withdraw(self, amount):\n",
    "      if amount > 0 and amount <= self.__balance:\n",
    "           self.__balance -= amount\n",
    "      else:\n",
    "           print(\"Invalidamount. Amount must be positive and less than or equal to the balance.\")\n",
    "\n",
    "\n",
    "\n",
    "account = BankAccount(2000, 123456789)\n",
    "\n",
    "print(f\"Account number: {account.account_number}; Balance: {account.balance}\")\n",
    "\n",
    "account.deposit(135)\n",
    "print(f\"Balance after deposit: {account.balance}\")\n",
    "\n",
    "account.withdraw(20)\n",
    "print(f\"Balance after withdrawal: {account.balance}\")\n"
   ],
   "metadata": {
    "id": "xCvZ7lh8M7YA",
    "colab": {
     "base_uri": "https://localhost:8080/"
    },
    "outputId": "35984cdd-ba09-43b5-9338-81b26527fd5c"
   },
   "execution_count": 42,
   "outputs": [
    {
     "output_type": "stream",
     "name": "stdout",
     "text": [
      "Account number: 123456789; Balance: 2000\n",
      "Balance after deposit: 2135\n",
      "Balance after withdrawal: 2115\n"
     ]
    }
   ]
  },
  {
   "cell_type": "markdown",
   "source": [
    "9. (11б). Створіть клас Library, який містить список об'єктів типу Book. Реалізуйте методи для додавання книги, видалення книги та відображення списку книг."
   ],
   "metadata": {
    "id": "tIzL2SJTM8ft"
   }
  },
  {
   "cell_type": "code",
   "source": [
    "class Book:\n",
    "    def __init__(self, title, author, number_of_pages):\n",
    "        self.title = title\n",
    "        self.author = author\n",
    "        self.number_of_pages = number_of_pages\n",
    "\n",
    "class Library:\n",
    "    def __init__(self):\n",
    "        self.books = []\n",
    "\n",
    "    def add_book(self, book):\n",
    "        self.books.append(book)\n",
    "\n",
    "    def remove_book(self, book_title):\n",
    "        for book in self.books:\n",
    "            if book.title == book_title:\n",
    "                self.books.remove(book)\n",
    "                return\n",
    "\n",
    "    def show_books(self):\n",
    "        if not self.books:\n",
    "            print(\"There is no book in the library\")\n",
    "        else:\n",
    "            i = 1\n",
    "            for book in self.books:\n",
    "                print(i,\" -\",f\"Title: \\\"{book.title}\\\". Author: {book.author}. Number of pages: {book.number_of_pages}\")\n",
    "                i+=1\n",
    "\n",
    "\n",
    "library = Library()\n",
    "\n",
    "first = Book(\"Bukvaryk\", \"Ilya Melnikov\", 64)\n",
    "second = Book(\"Ternopil over the years\", \"Lubomyra Boitsun\", 389)\n",
    "third = Book(\"Python for Kids: A Playful Introduction to Programming\", \"Jason R. Briggs\", 344)\n",
    "library.add_book(first)\n",
    "library.add_book(second)\n",
    "library.add_book(third)\n",
    "\n",
    "print(\"Show all books\")\n",
    "library.show_books()\n",
    "print(\"Remove Bukvaryk\")\n",
    "print(\"Show all books\")\n",
    "library.remove_book(\"Bukvaryk\")\n",
    "library.show_books()\n"
   ],
   "metadata": {
    "id": "HWxfJKLtNAUZ",
    "colab": {
     "base_uri": "https://localhost:8080/"
    },
    "outputId": "70f81d8d-72ad-4b88-f311-acc0804b5736",
    "ExecuteTime": {
     "end_time": "2024-02-29T15:03:04.308390300Z",
     "start_time": "2024-02-29T15:03:04.254648300Z"
    }
   },
   "execution_count": 1,
   "outputs": [
    {
     "name": "stdout",
     "output_type": "stream",
     "text": [
      "Show all books\n",
      "1  - Title: \"Bukvaryk\". Author: Ilya Melnikov. Number of pages: 64\n",
      "2  - Title: \"Ternopil over the years\". Author: Lubomyra Boitsun. Number of pages: 389\n",
      "3  - Title: \"Python for Kids: A Playful Introduction to Programming\". Author: Jason R. Briggs. Number of pages: 344\n",
      "Remove Bukvaryk\n",
      "Show all books\n",
      "1  - Title: \"Ternopil over the years\". Author: Lubomyra Boitsun. Number of pages: 389\n",
      "2  - Title: \"Python for Kids: A Playful Introduction to Programming\". Author: Jason R. Briggs. Number of pages: 344\n"
     ]
    }
   ]
  },
  {
   "cell_type": "markdown",
   "source": [
    "10. (13б). Створіть клас Person з атрибутами name та age. Створіть ще один клас Employee з такими атрибутами, як department та salary. Створіть клас Manager, який успадковує обидва класи Person та Employee. Продемонструйте використання множинної спадковості, створивши обʼєкт класу Manager та отримавши mro для цього класу."
   ],
   "metadata": {
    "id": "lmV8pAwwNIqu"
   }
  },
  {
   "cell_type": "code",
   "source": [
    "class Person:\n",
    "  def __init__(self, name, age):\n",
    "    self.name = name\n",
    "    self.age = age\n",
    "\n",
    "class Employee:\n",
    "  def __init__(self, department, salary):\n",
    "    self.department = department\n",
    "    self.salary = salary\n",
    "\n",
    "class Manager(Person, Employee):\n",
    "  def __init__(self, name, age, department, salary):\n",
    "        Person.__init__(self, name, age)\n",
    "        Employee.__init__(self, department, salary)\n",
    "\n",
    "  def __repr__(self):\n",
    "    return f\"Name: {self.name}, Age: {self.age}, Department: {self.department}, Salary: {self.salary}\"\n",
    "\n",
    "\n",
    "manager = Manager(\"Julia\", 19, \"IT\", 30000)\n",
    "print(manager)\n",
    "print(Manager.mro())\n",
    "\n"
   ],
   "metadata": {
    "id": "R49grKlWNPeN",
    "colab": {
     "base_uri": "https://localhost:8080/"
    },
    "outputId": "812eaafd-ea10-4d6a-f1e4-32a191eac627"
   },
   "execution_count": 59,
   "outputs": [
    {
     "output_type": "stream",
     "name": "stdout",
     "text": [
      "Name: Julia, Age: 19, Department: IT, Salary: 30000\n",
      "[<class '__main__.Manager'>, <class '__main__.Person'>, <class '__main__.Employee'>, <class 'object'>]\n"
     ]
    }
   ]
  },
  {
   "cell_type": "markdown",
   "source": [
    "# II. Iterator"
   ],
   "metadata": {
    "id": "dIJyUiNBFG8G"
   }
  },
  {
   "cell_type": "markdown",
   "source": [
    "11. (4б). Визначте рядок(str) з 4ма різними за значенням символами. Створіть ітератор на основі цього рядка. Викличте 5 разів функцію next на ітераторі, 4ри перших з них огорніть у ф-цію print()."
   ],
   "metadata": {
    "id": "13vsm0NyKIzL"
   }
  },
  {
   "cell_type": "code",
   "source": [
    "string_for_iterator = \"skip\"\n",
    "\n",
    "string_iterator = iter(string_for_iterator)\n",
    "\n",
    "print(next(string_iterator))\n",
    "print(next(string_iterator))\n",
    "print(next(string_iterator))\n",
    "print(next(string_iterator))\n",
    "next(string_iterator)\n",
    "\n"
   ],
   "metadata": {
    "id": "81ntabAkKuz-",
    "colab": {
     "base_uri": "https://localhost:8080/",
     "height": 263
    },
    "outputId": "92320b21-5928-4428-9e21-a46d8d69e7d1"
   },
   "execution_count": 61,
   "outputs": [
    {
     "output_type": "stream",
     "name": "stdout",
     "text": [
      "s\n",
      "k\n",
      "i\n",
      "p\n"
     ]
    },
    {
     "output_type": "error",
     "ename": "StopIteration",
     "evalue": "",
     "traceback": [
      "\u001B[0;31m---------------------------------------------------------------------------\u001B[0m",
      "\u001B[0;31mStopIteration\u001B[0m                             Traceback (most recent call last)",
      "\u001B[0;32m<ipython-input-61-e10fec284d55>\u001B[0m in \u001B[0;36m<cell line: 9>\u001B[0;34m()\u001B[0m\n\u001B[1;32m      7\u001B[0m \u001B[0mprint\u001B[0m\u001B[0;34m(\u001B[0m\u001B[0mnext\u001B[0m\u001B[0;34m(\u001B[0m\u001B[0mstring_iterator\u001B[0m\u001B[0;34m)\u001B[0m\u001B[0;34m)\u001B[0m\u001B[0;34m\u001B[0m\u001B[0;34m\u001B[0m\u001B[0m\n\u001B[1;32m      8\u001B[0m \u001B[0mprint\u001B[0m\u001B[0;34m(\u001B[0m\u001B[0mnext\u001B[0m\u001B[0;34m(\u001B[0m\u001B[0mstring_iterator\u001B[0m\u001B[0;34m)\u001B[0m\u001B[0;34m)\u001B[0m\u001B[0;34m\u001B[0m\u001B[0;34m\u001B[0m\u001B[0m\n\u001B[0;32m----> 9\u001B[0;31m \u001B[0mnext\u001B[0m\u001B[0;34m(\u001B[0m\u001B[0mstring_iterator\u001B[0m\u001B[0;34m)\u001B[0m\u001B[0;34m\u001B[0m\u001B[0;34m\u001B[0m\u001B[0m\n\u001B[0m\u001B[1;32m     10\u001B[0m \u001B[0;34m\u001B[0m\u001B[0m\n",
      "\u001B[0;31mStopIteration\u001B[0m: "
     ]
    }
   ]
  },
  {
   "cell_type": "markdown",
   "source": [
    "А що якщо викликати цю ж функцію на рядку?"
   ],
   "metadata": {
    "id": "aekWHGXOLRsO"
   }
  },
  {
   "cell_type": "code",
   "source": [
    "next(string_for_iterator)"
   ],
   "metadata": {
    "id": "mxATGsErLV1i",
    "colab": {
     "base_uri": "https://localhost:8080/",
     "height": 141
    },
    "outputId": "2ffe90d2-de81-42df-c438-744b53513e0e"
   },
   "execution_count": 62,
   "outputs": [
    {
     "output_type": "error",
     "ename": "TypeError",
     "evalue": "'str' object is not an iterator",
     "traceback": [
      "\u001B[0;31m---------------------------------------------------------------------------\u001B[0m",
      "\u001B[0;31mTypeError\u001B[0m                                 Traceback (most recent call last)",
      "\u001B[0;32m<ipython-input-62-438e54a695ee>\u001B[0m in \u001B[0;36m<cell line: 1>\u001B[0;34m()\u001B[0m\n\u001B[0;32m----> 1\u001B[0;31m \u001B[0mnext\u001B[0m\u001B[0;34m(\u001B[0m\u001B[0mstring_for_iterator\u001B[0m\u001B[0;34m)\u001B[0m\u001B[0;34m\u001B[0m\u001B[0;34m\u001B[0m\u001B[0m\n\u001B[0m",
      "\u001B[0;31mTypeError\u001B[0m: 'str' object is not an iterator"
     ]
    }
   ]
  },
  {
   "cell_type": "markdown",
   "source": [
    " 12. (5б). Опишіть своїми словами в одному реченні, як ви розумієте різницю між ітерабельними обʼєктами та ітераторами (можна на прикладі)."
   ],
   "metadata": {
    "id": "XwtMEopwJ4pH"
   }
  },
  {
   "cell_type": "markdown",
   "source": [
    "☝Ітерабельні об'єкти це такі собі комірки, в яких можна послідовно перебирати елементи, а ітератори - це об'єкти, які власне виконують цей перебір, зберігаючи поточний стан та надаючи значення по одному за раз.\n",
    "\n",
    " ⭐Наприклад: список це ітерабельний об'єкт, а його ітератор - об'єкт, який відстежує поточний індекс у списку."
   ],
   "metadata": {
    "id": "-sHrODc3KFn8"
   }
  },
  {
   "cell_type": "markdown",
   "source": [
    "13. (11б). Створіть клас, що має визначений Iterator Protocol та при кожному виклику next повертає літери англійської абетки, поки вони не вичерпаються."
   ],
   "metadata": {
    "id": "E9qJWmNbK8Gl"
   }
  },
  {
   "cell_type": "code",
   "source": [
    "class Alphabet:\n",
    "    def __init__(self):\n",
    "        self.letter = ord('a')\n",
    "\n",
    "    def __iter__(self):\n",
    "        return self\n",
    "\n",
    "    def __next__(self):\n",
    "        if self.letter <= ord('z'):\n",
    "            letter_to_return = chr(self.letter)\n",
    "            self.letter += 1\n",
    "            return letter_to_return\n",
    "        else:\n",
    "            raise StopIteration(\"You have printed all the letters\")\n",
    "\n",
    "alphabet = Alphabet()\n",
    "\n",
    "for i in range(27):\n",
    "    print(next(alphabet))\n"
   ],
   "metadata": {
    "id": "cqx-g_RsLo6I",
    "colab": {
     "base_uri": "https://localhost:8080/",
     "height": 748
    },
    "outputId": "1598efc2-3112-47cd-a5e4-412b8fae4fa6"
   },
   "execution_count": 70,
   "outputs": [
    {
     "output_type": "stream",
     "name": "stdout",
     "text": [
      "a\n",
      "b\n",
      "c\n",
      "d\n",
      "e\n",
      "f\n",
      "g\n",
      "h\n",
      "i\n",
      "j\n",
      "k\n",
      "l\n",
      "m\n",
      "n\n",
      "o\n",
      "p\n",
      "q\n",
      "r\n",
      "s\n",
      "t\n",
      "u\n",
      "v\n",
      "w\n",
      "x\n",
      "y\n",
      "z\n"
     ]
    },
    {
     "output_type": "error",
     "ename": "StopIteration",
     "evalue": "You have printed all the letters",
     "traceback": [
      "\u001B[0;31m---------------------------------------------------------------------------\u001B[0m",
      "\u001B[0;31mStopIteration\u001B[0m                             Traceback (most recent call last)",
      "\u001B[0;32m<ipython-input-70-ee0be39879e5>\u001B[0m in \u001B[0;36m<cell line: 19>\u001B[0;34m()\u001B[0m\n\u001B[1;32m     18\u001B[0m \u001B[0;34m\u001B[0m\u001B[0m\n\u001B[1;32m     19\u001B[0m \u001B[0;32mfor\u001B[0m \u001B[0mi\u001B[0m \u001B[0;32min\u001B[0m \u001B[0mrange\u001B[0m\u001B[0;34m(\u001B[0m\u001B[0;36m27\u001B[0m\u001B[0;34m)\u001B[0m\u001B[0;34m:\u001B[0m\u001B[0;34m\u001B[0m\u001B[0;34m\u001B[0m\u001B[0m\n\u001B[0;32m---> 20\u001B[0;31m     \u001B[0mprint\u001B[0m\u001B[0;34m(\u001B[0m\u001B[0mnext\u001B[0m\u001B[0;34m(\u001B[0m\u001B[0malphabet\u001B[0m\u001B[0;34m)\u001B[0m\u001B[0;34m)\u001B[0m\u001B[0;34m\u001B[0m\u001B[0;34m\u001B[0m\u001B[0m\n\u001B[0m",
      "\u001B[0;32m<ipython-input-70-ee0be39879e5>\u001B[0m in \u001B[0;36m__next__\u001B[0;34m(self)\u001B[0m\n\u001B[1;32m     12\u001B[0m             \u001B[0;32mreturn\u001B[0m \u001B[0mletter_to_return\u001B[0m\u001B[0;34m\u001B[0m\u001B[0;34m\u001B[0m\u001B[0m\n\u001B[1;32m     13\u001B[0m         \u001B[0;32melse\u001B[0m\u001B[0;34m:\u001B[0m\u001B[0;34m\u001B[0m\u001B[0;34m\u001B[0m\u001B[0m\n\u001B[0;32m---> 14\u001B[0;31m             \u001B[0;32mraise\u001B[0m \u001B[0mStopIteration\u001B[0m\u001B[0;34m(\u001B[0m\u001B[0;34m\"You have printed all the letters\"\u001B[0m\u001B[0;34m)\u001B[0m\u001B[0;34m\u001B[0m\u001B[0;34m\u001B[0m\u001B[0m\n\u001B[0m\u001B[1;32m     15\u001B[0m \u001B[0;34m\u001B[0m\u001B[0m\n\u001B[1;32m     16\u001B[0m \u001B[0malphabet\u001B[0m \u001B[0;34m=\u001B[0m \u001B[0mAlphabet\u001B[0m\u001B[0;34m(\u001B[0m\u001B[0;34m)\u001B[0m\u001B[0;34m\u001B[0m\u001B[0;34m\u001B[0m\u001B[0m\n",
      "\u001B[0;31mStopIteration\u001B[0m: You have printed all the letters"
     ]
    }
   ]
  },
  {
   "cell_type": "markdown",
   "source": [
    "# Вітаю! Ви велика(ий) молодець, що впоралась(вся). Похваліть себе та побалуйте чимось приємним. Я Вами пишаюся."
   ],
   "metadata": {
    "id": "Z3E3S_s1Fv7-"
   }
  }
 ]
}
